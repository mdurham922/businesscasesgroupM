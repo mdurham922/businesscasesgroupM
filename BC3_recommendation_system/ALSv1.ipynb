{
 "cells": [
  {
   "cell_type": "markdown",
   "metadata": {},
   "source": [
    "# H&M - Implicit ALS model\n",
    "![](https://storage.googleapis.com/kaggle-competitions/kaggle/31254/logos/header.png)\n",
    "\n",
    "## Implicit ALS base model for the competition [H&M Personalized Fashion Recommendations](https://www.kaggle.com/c/h-and-m-personalized-fashion-recommendations).\n",
    "\n",
    "\n",
    "[Implicit](https://github.com/benfred/implicit/) is a library for recommender models. In theory, it supports GPU out-of-the-box, but I haven't tried it yet.\n",
    "\n",
    "In this notebook we use ALS (Alternating Least Squares), but the library supports a lot of other models with not many changes.\n",
    "\n",
    "ALS is one of the most used ML models for recommender systems. It's a matrix factorization method based on SVD (it's actually an approximated, numerical version of SVD). Basically, ALS factorizes the interaction matrix (user x items) into two smaller matrices, one for item embeddings and one for user embeddings. These new matrices are built in a manner such that the multiplication of a user and an item gives (approximately) it's interaction score. This build embeddings for items and for users that live in the same vector space, allowing the implementation of recommendations as simple cosine distances between users and items. This is, the 12 items we recommend for a given user are the 12 items with their embedding vectors closer to the user embedding vector.\n",
    "\n",
    "There are a lot of online resources explaining it. For example, [here](https://towardsdatascience.com/prototyping-a-recommender-system-step-by-step-part-2-alternating-least-square-als-matrix-4a76c58714a1).\n",
    "\n",
    "\n",
    "Be aware that there was a breaking API change in a recent release of implicit (11 days ago): https://github.com/benfred/implicit/releases/tag/v0.5.0 so some thing in the documentation are off if you use the version that comes installed in the Kaggle environments. Anyway, this competition doesn't forbid Internet usage, so upgrading the package to its latest version fixes all.\n",
    "\n",
    "\n",
    "---\n",
    "\n",
    "**I have reverted the kernet to version 14 with a score of `0.014` for now. The scores above `0.014` are using the `0.02` model by Heng Zheng as the fallback strategy for cold-start users. Therefore, a `0.018` score is actually bad. I did those version with the hope that they would work nicely together, obtaining `>0.02`. Since it was not the case, reporting a `0.018` score is not accurate at all.**\n",
    "\n",
    "If I can obtain a score that surpasses the `0.02`, using ALS + Heng's baseline, I will roll back to those versions again.\n",
    "\n",
    "\n",
    "# Please, _DO_ upvote if you find this kernel useful or interesting!"
   ]
  },
  {
   "cell_type": "markdown",
   "metadata": {},
   "source": [
    "# Imports"
   ]
  },
  {
   "cell_type": "code",
   "execution_count": 1,
   "metadata": {
    "execution": {
     "iopub.execute_input": "2022-02-08T23:03:41.915739Z",
     "iopub.status.busy": "2022-02-08T23:03:41.915352Z",
     "iopub.status.idle": "2022-02-08T23:06:12.366321Z",
     "shell.execute_reply": "2022-02-08T23:06:12.364617Z",
     "shell.execute_reply.started": "2022-02-08T23:03:41.915645Z"
    }
   },
   "outputs": [
    {
     "name": "stdout",
     "output_type": "stream",
     "text": [
      "Collecting implicit\n",
      "  Downloading implicit-0.5.2-cp38-cp38-win_amd64.whl (628 kB)\n",
      "Requirement already satisfied: tqdm>=4.27 in c:\\users\\mdurh\\anaconda3\\lib\\site-packages (from implicit) (4.59.0)\n",
      "Requirement already satisfied: numpy in c:\\users\\mdurh\\anaconda3\\lib\\site-packages (from implicit) (1.22.2)\n",
      "Requirement already satisfied: scipy>=0.16 in c:\\users\\mdurh\\anaconda3\\lib\\site-packages (from implicit) (1.6.2)\n",
      "Installing collected packages: implicit\n",
      "Successfully installed implicit-0.5.2\n"
     ]
    },
    {
     "name": "stderr",
     "output_type": "stream",
     "text": [
      "WARNING: You are using pip version 21.3.1; however, version 22.0.4 is available.\n",
      "You should consider upgrading via the 'C:\\Users\\mdurh\\anaconda3\\python.exe -m pip install --upgrade pip' command.\n"
     ]
    }
   ],
   "source": [
    "# FYI:\n",
    "# This pip command takes a lot with GPU enabled (~15 min)\n",
    "# It works though. And GPU accelerates the process *a lot*.\n",
    "# I am developing with GPU turned off and submitting with GPU turned on\n",
    "!pip install --upgrade implicit"
   ]
  },
  {
   "cell_type": "code",
   "execution_count": 2,
   "metadata": {
    "execution": {
     "iopub.execute_input": "2022-02-09T14:22:41.427496Z",
     "iopub.status.busy": "2022-02-09T14:22:41.426785Z",
     "iopub.status.idle": "2022-02-09T14:22:41.769505Z",
     "shell.execute_reply": "2022-02-09T14:22:41.768679Z",
     "shell.execute_reply.started": "2022-02-09T14:22:41.427391Z"
    }
   },
   "outputs": [],
   "source": [
    "import os; os.environ['OPENBLAS_NUM_THREADS']='1'\n",
    "import numpy as np\n",
    "import pandas as pd\n",
    "import implicit\n",
    "from scipy.sparse import coo_matrix\n",
    "from implicit.evaluation import mean_average_precision_at_k"
   ]
  },
  {
   "cell_type": "markdown",
   "metadata": {},
   "source": [
    "# Load dataframes"
   ]
  },
  {
   "cell_type": "code",
   "execution_count": null,
   "metadata": {},
   "outputs": [],
   "source": [
    "#transaction data \n",
    "#users \n",
    "#items "
   ]
  },
  {
   "cell_type": "code",
   "execution_count": 21,
   "metadata": {},
   "outputs": [],
   "source": [
    "df = df = pd.read_csv('cleaned_data2.csv', dtype={'StockCode': str}, parse_dates=['InvoiceDate'])"
   ]
  },
  {
   "cell_type": "code",
   "execution_count": 22,
   "metadata": {},
   "outputs": [
    {
     "name": "stdout",
     "output_type": "stream",
     "text": [
      "<class 'pandas.core.frame.DataFrame'>\n",
      "RangeIndex: 516528 entries, 0 to 516527\n",
      "Data columns (total 9 columns):\n",
      " #   Column       Non-Null Count   Dtype         \n",
      "---  ------       --------------   -----         \n",
      " 0   InvoiceNo    516528 non-null  object        \n",
      " 1   StockCode    516528 non-null  object        \n",
      " 2   Quantity     516528 non-null  int64         \n",
      " 3   InvoiceDate  516528 non-null  datetime64[ns]\n",
      " 4   UnitPrice    516528 non-null  float64       \n",
      " 5   CustomerID   392980 non-null  float64       \n",
      " 6   Country      516528 non-null  object        \n",
      " 7   TotalValue   516528 non-null  float64       \n",
      " 8   Description  516528 non-null  object        \n",
      "dtypes: datetime64[ns](1), float64(3), int64(1), object(4)\n",
      "memory usage: 35.5+ MB\n"
     ]
    }
   ],
   "source": [
    "df.info()"
   ]
  },
  {
   "cell_type": "code",
   "execution_count": 23,
   "metadata": {},
   "outputs": [
    {
     "data": {
      "text/html": [
       "<div>\n",
       "<style scoped>\n",
       "    .dataframe tbody tr th:only-of-type {\n",
       "        vertical-align: middle;\n",
       "    }\n",
       "\n",
       "    .dataframe tbody tr th {\n",
       "        vertical-align: top;\n",
       "    }\n",
       "\n",
       "    .dataframe thead th {\n",
       "        text-align: right;\n",
       "    }\n",
       "</style>\n",
       "<table border=\"1\" class=\"dataframe\">\n",
       "  <thead>\n",
       "    <tr style=\"text-align: right;\">\n",
       "      <th></th>\n",
       "      <th>Purchases</th>\n",
       "      <th>unique_products</th>\n",
       "      <th>total_no_items</th>\n",
       "      <th>monetary</th>\n",
       "      <th>med_purchase_value</th>\n",
       "    </tr>\n",
       "    <tr>\n",
       "      <th>CustomerID</th>\n",
       "      <th></th>\n",
       "      <th></th>\n",
       "      <th></th>\n",
       "      <th></th>\n",
       "      <th></th>\n",
       "    </tr>\n",
       "  </thead>\n",
       "  <tbody>\n",
       "    <tr>\n",
       "      <th>12346.0</th>\n",
       "      <td>2.0</td>\n",
       "      <td>1.0</td>\n",
       "      <td>0.0</td>\n",
       "      <td>0.00</td>\n",
       "      <td>0.00</td>\n",
       "    </tr>\n",
       "    <tr>\n",
       "      <th>12347.0</th>\n",
       "      <td>7.0</td>\n",
       "      <td>100.0</td>\n",
       "      <td>2392.0</td>\n",
       "      <td>4215.50</td>\n",
       "      <td>17.00</td>\n",
       "    </tr>\n",
       "    <tr>\n",
       "      <th>12348.0</th>\n",
       "      <td>4.0</td>\n",
       "      <td>19.0</td>\n",
       "      <td>2260.0</td>\n",
       "      <td>1376.04</td>\n",
       "      <td>41.76</td>\n",
       "    </tr>\n",
       "    <tr>\n",
       "      <th>12349.0</th>\n",
       "      <td>1.0</td>\n",
       "      <td>72.0</td>\n",
       "      <td>630.0</td>\n",
       "      <td>1457.55</td>\n",
       "      <td>17.70</td>\n",
       "    </tr>\n",
       "    <tr>\n",
       "      <th>12350.0</th>\n",
       "      <td>1.0</td>\n",
       "      <td>16.0</td>\n",
       "      <td>196.0</td>\n",
       "      <td>294.40</td>\n",
       "      <td>18.75</td>\n",
       "    </tr>\n",
       "  </tbody>\n",
       "</table>\n",
       "</div>"
      ],
      "text/plain": [
       "            Purchases  unique_products  total_no_items  monetary  \\\n",
       "CustomerID                                                         \n",
       "12346.0           2.0              1.0             0.0      0.00   \n",
       "12347.0           7.0            100.0          2392.0   4215.50   \n",
       "12348.0           4.0             19.0          2260.0   1376.04   \n",
       "12349.0           1.0             72.0           630.0   1457.55   \n",
       "12350.0           1.0             16.0           196.0    294.40   \n",
       "\n",
       "            med_purchase_value  \n",
       "CustomerID                      \n",
       "12346.0                   0.00  \n",
       "12347.0                  17.00  \n",
       "12348.0                  41.76  \n",
       "12349.0                  17.70  \n",
       "12350.0                  18.75  "
      ]
     },
     "execution_count": 23,
     "metadata": {},
     "output_type": "execute_result"
    }
   ],
   "source": [
    "df_cust = df.dropna()\n",
    "dfu = pd.DataFrame([df_cust.groupby(\"CustomerID\")[\"InvoiceNo\"].nunique().rename(\"Purchases\"),\n",
    "                          df_cust.groupby(\"CustomerID\")['StockCode'].nunique().rename(\"unique_products\"),\n",
    "                          df_cust.groupby(\"CustomerID\")['Quantity'].sum().rename(\"total_no_items\"),\n",
    "                          df_cust.groupby(\"CustomerID\")['TotalValue'].sum().rename(\"monetary\"),\n",
    "                          df_cust.groupby(\"CustomerID\")['TotalValue'].median().rename(\"med_purchase_value\")\n",
    "                         ]).T\n",
    "#Country\n",
    "#recency of most recent purchase\n",
    "#frequency \n",
    "#length of time as a customer\n",
    "dfu.head()"
   ]
  },
  {
   "cell_type": "code",
   "execution_count": 24,
   "metadata": {},
   "outputs": [],
   "source": [
    "#product table\n",
    "df_purchases = df[df[\"Quantity\"]>0]\n",
    "\n",
    "df_returns = df[df[\"Quantity\"]<0]"
   ]
  },
  {
   "cell_type": "code",
   "execution_count": 25,
   "metadata": {},
   "outputs": [
    {
     "data": {
      "text/html": [
       "<div>\n",
       "<style scoped>\n",
       "    .dataframe tbody tr th:only-of-type {\n",
       "        vertical-align: middle;\n",
       "    }\n",
       "\n",
       "    .dataframe tbody tr th {\n",
       "        vertical-align: top;\n",
       "    }\n",
       "\n",
       "    .dataframe thead th {\n",
       "        text-align: right;\n",
       "    }\n",
       "</style>\n",
       "<table border=\"1\" class=\"dataframe\">\n",
       "  <thead>\n",
       "    <tr style=\"text-align: right;\">\n",
       "      <th></th>\n",
       "      <th>Description</th>\n",
       "      <th>UnitPrice</th>\n",
       "      <th>times_purchased</th>\n",
       "      <th>times_returned</th>\n",
       "      <th>avg_quant_purchased</th>\n",
       "      <th>net_item_revenue</th>\n",
       "    </tr>\n",
       "    <tr>\n",
       "      <th>StockCode</th>\n",
       "      <th></th>\n",
       "      <th></th>\n",
       "      <th></th>\n",
       "      <th></th>\n",
       "      <th></th>\n",
       "      <th></th>\n",
       "    </tr>\n",
       "  </thead>\n",
       "  <tbody>\n",
       "    <tr>\n",
       "      <th>10002</th>\n",
       "      <td>[inflatable political globe ]</td>\n",
       "      <td>1.08662</td>\n",
       "      <td>71</td>\n",
       "      <td>0.0</td>\n",
       "      <td>12.112676</td>\n",
       "      <td>759.89</td>\n",
       "    </tr>\n",
       "    <tr>\n",
       "      <th>10125</th>\n",
       "      <td>[mini funky design tapes]</td>\n",
       "      <td>0.859681</td>\n",
       "      <td>91</td>\n",
       "      <td>0.0</td>\n",
       "      <td>13.787234</td>\n",
       "      <td>994.84</td>\n",
       "    </tr>\n",
       "    <tr>\n",
       "      <th>10133</th>\n",
       "      <td>[colouring pencils brown tube]</td>\n",
       "      <td>0.649045</td>\n",
       "      <td>196</td>\n",
       "      <td>1.0</td>\n",
       "      <td>14.479798</td>\n",
       "      <td>1540.02</td>\n",
       "    </tr>\n",
       "    <tr>\n",
       "      <th>10135</th>\n",
       "      <td>[colouring pencils brown tube]</td>\n",
       "      <td>1.410167</td>\n",
       "      <td>175</td>\n",
       "      <td>1.0</td>\n",
       "      <td>12.463687</td>\n",
       "      <td>2206.14</td>\n",
       "    </tr>\n",
       "    <tr>\n",
       "      <th>11001</th>\n",
       "      <td>[asstd design racing car pen]</td>\n",
       "      <td>1.878167</td>\n",
       "      <td>113</td>\n",
       "      <td>5.0</td>\n",
       "      <td>14.043478</td>\n",
       "      <td>2152.39</td>\n",
       "    </tr>\n",
       "  </tbody>\n",
       "</table>\n",
       "</div>"
      ],
      "text/plain": [
       "                              Description UnitPrice times_purchased  \\\n",
       "StockCode                                                             \n",
       "10002       [inflatable political globe ]   1.08662              71   \n",
       "10125           [mini funky design tapes]  0.859681              91   \n",
       "10133      [colouring pencils brown tube]  0.649045             196   \n",
       "10135      [colouring pencils brown tube]  1.410167             175   \n",
       "11001       [asstd design racing car pen]  1.878167             113   \n",
       "\n",
       "           times_returned avg_quant_purchased net_item_revenue  \n",
       "StockCode                                                       \n",
       "10002                 0.0           12.112676           759.89  \n",
       "10125                 0.0           13.787234           994.84  \n",
       "10133                 1.0           14.479798          1540.02  \n",
       "10135                 1.0           12.463687          2206.14  \n",
       "11001                 5.0           14.043478          2152.39  "
      ]
     },
     "execution_count": 25,
     "metadata": {},
     "output_type": "execute_result"
    }
   ],
   "source": [
    "dfi = pd.DataFrame([df.groupby(\"StockCode\")['Description'].unique().rename(\"Description\"),\n",
    "                         df.groupby(\"StockCode\")['UnitPrice'].mean().rename(\"UnitPrice\"), #problem with the unit price\n",
    "                         df_purchases.groupby(\"StockCode\")[\"InvoiceNo\"].nunique().rename(\"times_purchased\"),\n",
    "                         df_returns.groupby(\"StockCode\")['InvoiceNo'].nunique().rename(\"times_returned\"),\n",
    "                         df_purchases.groupby(\"StockCode\")['Quantity'].mean().rename(\"avg_quant_purchased\"),\n",
    "                         df.groupby(\"StockCode\")['TotalValue'].sum().rename(\"net_item_revenue\")\n",
    "                         ]).T\n",
    "dfi.times_returned.fillna(0, inplace=True)\n",
    "\n",
    "#should add the frequency over different times of the year etc. \n",
    "# 12 variables for times purchased in each month \n",
    "dfi.head()"
   ]
  },
  {
   "cell_type": "code",
   "execution_count": null,
   "metadata": {
    "_cell_guid": "b1076dfc-b9ad-4769-8c92-a6c4dae69d19",
    "_uuid": "8f2839f25d086af736a60e9eeb907d3b93b6e0e5",
    "execution": {
     "iopub.execute_input": "2022-02-09T14:22:41.771693Z",
     "iopub.status.busy": "2022-02-09T14:22:41.771261Z",
     "iopub.status.idle": "2022-02-09T14:23:58.179973Z",
     "shell.execute_reply": "2022-02-09T14:23:58.179057Z",
     "shell.execute_reply.started": "2022-02-09T14:22:41.771655Z"
    }
   },
   "outputs": [],
   "source": [
    "#%%time\n",
    "\n",
    "#base_path = '../input/h-and-m-personalized-fashion-recommendations/'\n",
    "#csv_train = f'{base_path}transactions_train.csv'\n",
    "#csv_sub = f'{base_path}sample_submission.csv'\n",
    "#csv_users = f'{base_path}customers.csv'\n",
    "#csv_items = f'{base_path}articles.csv'\n",
    "\n",
    "#df = pd.read_csv(csv_train, dtype={'article_id': str}, parse_dates=['t_dat'])\n",
    "#df_sub = pd.read_csv(csv_sub)\n",
    "#dfu = pd.read_csv(csv_users)\n",
    "#dfi = pd.read_csv(csv_items, dtype={'article_id': str})"
   ]
  },
  {
   "cell_type": "code",
   "execution_count": null,
   "metadata": {
    "execution": {
     "iopub.execute_input": "2022-02-09T14:24:33.179007Z",
     "iopub.status.busy": "2022-02-09T14:24:33.178743Z",
     "iopub.status.idle": "2022-02-09T14:24:33.226669Z",
     "shell.execute_reply": "2022-02-09T14:24:33.22595Z",
     "shell.execute_reply.started": "2022-02-09T14:24:33.178977Z"
    }
   },
   "outputs": [],
   "source": [
    "# Trying with less data:\n",
    "# https://www.kaggle.com/tomooinubushi/folk-of-time-is-our-best-friend/notebook\n",
    "#df = df[df['t_dat'] > '2020-08-21']\n",
    "#df.shape"
   ]
  },
  {
   "cell_type": "code",
   "execution_count": 10,
   "metadata": {
    "execution": {
     "iopub.execute_input": "2022-02-09T14:25:03.710329Z",
     "iopub.status.busy": "2022-02-09T14:25:03.709766Z",
     "iopub.status.idle": "2022-02-09T14:25:03.720059Z",
     "shell.execute_reply": "2022-02-09T14:25:03.719059Z",
     "shell.execute_reply.started": "2022-02-09T14:25:03.710286Z"
    }
   },
   "outputs": [
    {
     "data": {
      "text/plain": [
       "Timestamp('2011-12-09 12:50:00')"
      ]
     },
     "execution_count": 10,
     "metadata": {},
     "output_type": "execute_result"
    }
   ],
   "source": [
    "# For validation this means 3 weeks of training and 1 week for validation\n",
    "# For submission, it means 4 weeks of training\n",
    "df['InvoiceDate'].max()"
   ]
  },
  {
   "cell_type": "markdown",
   "metadata": {},
   "source": [
    "## Assign autoincrementing ids starting from 0 to both users and items"
   ]
  },
  {
   "cell_type": "code",
   "execution_count": 26,
   "metadata": {
    "execution": {
     "iopub.execute_input": "2022-02-08T23:07:41.919179Z",
     "iopub.status.busy": "2022-02-08T23:07:41.918576Z",
     "iopub.status.idle": "2022-02-08T23:07:59.273467Z",
     "shell.execute_reply": "2022-02-08T23:07:59.272662Z",
     "shell.execute_reply.started": "2022-02-08T23:07:41.919131Z"
    }
   },
   "outputs": [],
   "source": [
    "ALL_USERS = df['CustomerID'].unique().tolist()\n",
    "ALL_ITEMS = df['StockCode'].unique().tolist()\n",
    "\n",
    "user_ids = dict(list(enumerate(ALL_USERS)))\n",
    "item_ids = dict(list(enumerate(ALL_ITEMS)))\n",
    "\n",
    "user_map = {u: uidx for uidx, u in user_ids.items()}\n",
    "item_map = {i: iidx for iidx, i in item_ids.items()}\n",
    "\n",
    "df['user_id'] = df['CustomerID'].map(user_map)\n",
    "df['item_id'] = df['StockCode'].map(item_map)\n",
    "\n",
    "del dfu, dfi"
   ]
  },
  {
   "cell_type": "markdown",
   "metadata": {},
   "source": [
    "## Create coo_matrix (user x item) and csr matrix (user x item)\n",
    "\n",
    "It is common to use scipy sparse matrices in recommender systems, because the main core of the problem is typically modeled as a matrix with users and items, with the values representing whether the user purchased (or liked) an items. Since each user purchases only a small fraction of the catalog of products, this matrix is full of zero (aka: it's sparse).\n",
    "\n",
    "In a very recent release they did an API breaking change, so be aware of that: https://github.com/benfred/implicit/releases\n",
    "In this notebook we are using the latest version, so everything is aligned with (user x item)\n",
    "\n",
    "**We are using (user x item) matrices, both for training and for evaluating/recommender.**\n",
    "\n",
    "In the previous versions the training procedure required a COO item x user\n",
    "\n",
    "For evaluation and prediction, on the other hand, CSR matrices with users x items format should be provided.\n",
    "\n",
    "\n",
    "### About COO matrices\n",
    "COO matrices are a kind of sparse matrix.\n",
    "They store their values as tuples of `(row, column, value)` (the coordinates)\n",
    "\n",
    "You can read more about them here: \n",
    "* https://en.wikipedia.org/wiki/Sparse_matrix#Coordinate_list_(COO)\n",
    "* https://scipy-lectures.org/advanced/scipy_sparse/coo_matrix.html\n",
    "\n",
    "From https://het.as.utexas.edu/HET/Software/Scipy/generated/scipy.sparse.coo_matrix.html\n",
    "\n",
    "```python\n",
    ">>> row  = np.array([0,3,1,0]) # user_ids\n",
    ">>> col  = np.array([0,3,1,2]) # item_ids\n",
    ">>> data = np.array([4,5,7,9]) # a bunch of ones of lenght unique(user) x unique(items)\n",
    ">>> coo_matrix((data,(row,col)), shape=(4,4)).todense()\n",
    "matrix([[4, 0, 9, 0],\n",
    "        [0, 7, 0, 0],\n",
    "        [0, 0, 0, 0],\n",
    "        [0, 0, 0, 5]])\n",
    "```\n",
    "\n",
    "## About CSR matrices\n",
    "* https://en.wikipedia.org/wiki/Sparse_matrix#Compressed_sparse_row_(CSR,_CRS_or_Yale_format)\n"
   ]
  },
  {
   "cell_type": "code",
   "execution_count": 27,
   "metadata": {
    "execution": {
     "iopub.execute_input": "2022-02-08T23:07:59.275048Z",
     "iopub.status.busy": "2022-02-08T23:07:59.274475Z",
     "iopub.status.idle": "2022-02-08T23:07:59.568032Z",
     "shell.execute_reply": "2022-02-08T23:07:59.567441Z",
     "shell.execute_reply.started": "2022-02-08T23:07:59.275017Z"
    }
   },
   "outputs": [
    {
     "data": {
      "text/plain": [
       "<4356x2489 sparse matrix of type '<class 'numpy.float64'>'\n",
       "\twith 516528 stored elements in COOrdinate format>"
      ]
     },
     "execution_count": 27,
     "metadata": {},
     "output_type": "execute_result"
    }
   ],
   "source": [
    "row = df['user_id'].values\n",
    "col = df['item_id'].values\n",
    "data = np.ones(df.shape[0])\n",
    "coo_train = coo_matrix((data, (row, col)), shape=(len(ALL_USERS), len(ALL_ITEMS)))\n",
    "coo_train"
   ]
  },
  {
   "cell_type": "markdown",
   "metadata": {},
   "source": [
    "# Check that model works ok with data"
   ]
  },
  {
   "cell_type": "code",
   "execution_count": 30,
   "metadata": {
    "execution": {
     "iopub.execute_input": "2022-02-08T23:07:59.56941Z",
     "iopub.status.busy": "2022-02-08T23:07:59.569085Z",
     "iopub.status.idle": "2022-02-08T23:08:18.796116Z",
     "shell.execute_reply": "2022-02-08T23:08:18.795433Z",
     "shell.execute_reply.started": "2022-02-08T23:07:59.569383Z"
    }
   },
   "outputs": [
    {
     "name": "stderr",
     "output_type": "stream",
     "text": [
      "C:\\Users\\mdurh\\anaconda3\\lib\\site-packages\\implicit\\utils.py:31: UserWarning: Intel MKL BLAS detected. Its highly recommend to set the environment variable 'export MKL_NUM_THREADS=1' to disable its internal multithreading\n",
      "  warnings.warn(\n"
     ]
    },
    {
     "data": {
      "application/vnd.jupyter.widget-view+json": {
       "model_id": "eec12235177644dd84c3398733bf11e9",
       "version_major": 2,
       "version_minor": 0
      },
      "text/plain": [
       "  0%|          | 0/2 [00:00<?, ?it/s]"
      ]
     },
     "metadata": {},
     "output_type": "display_data"
    },
    {
     "name": "stdout",
     "output_type": "stream",
     "text": [
      "Wall time: 692 ms\n"
     ]
    }
   ],
   "source": [
    "%%time\n",
    "model = implicit.als.AlternatingLeastSquares(factors=10, iterations=2)\n",
    "model.fit(coo_train)"
   ]
  },
  {
   "cell_type": "markdown",
   "metadata": {},
   "source": [
    "# Validation"
   ]
  },
  {
   "cell_type": "markdown",
   "metadata": {},
   "source": [
    "## Functions required for validation"
   ]
  },
  {
   "cell_type": "code",
   "execution_count": 33,
   "metadata": {
    "execution": {
     "iopub.execute_input": "2022-02-08T23:11:16.952282Z",
     "iopub.status.busy": "2022-02-08T23:11:16.951529Z",
     "iopub.status.idle": "2022-02-08T23:11:16.966032Z",
     "shell.execute_reply": "2022-02-08T23:11:16.965106Z",
     "shell.execute_reply.started": "2022-02-08T23:11:16.952239Z"
    }
   },
   "outputs": [],
   "source": [
    "def to_user_item_coo(df):\n",
    "    \"\"\" Turn a dataframe with transactions into a COO sparse items x users matrix\"\"\"\n",
    "    row = df['user_id'].values\n",
    "    col = df['item_id'].values\n",
    "    data = np.ones(df.shape[0])\n",
    "    coo = coo_matrix((data, (row, col)), shape=(len(ALL_USERS), len(ALL_ITEMS)))\n",
    "    return coo\n",
    "\n",
    "\n",
    "def split_data(df, validation_days=7):\n",
    "    \"\"\" Split a pandas dataframe into training and validation data, using <<validation_days>>\n",
    "    \"\"\"\n",
    "    validation_cut = df['InvoiceDate'].max() - pd.Timedelta(validation_days)\n",
    "\n",
    "    df_train = df[df['InvoiceDate'] < validation_cut]\n",
    "    df_val = df[df['InvoiceDate'] >= validation_cut]\n",
    "    return df_train, df_val\n",
    "\n",
    "def get_val_matrices(df, validation_days=7):\n",
    "    \"\"\" Split into training and validation and create various matrices\n",
    "        \n",
    "        Returns a dictionary with the following keys:\n",
    "            coo_train: training data in COO sparse format and as (users x items)\n",
    "            csr_train: training data in CSR sparse format and as (users x items)\n",
    "            csr_val:  validation data in CSR sparse format and as (users x items)\n",
    "    \n",
    "    \"\"\"\n",
    "    df_train, df_val = split_data(df, validation_days=validation_days)\n",
    "    coo_train = to_user_item_coo(df_train)\n",
    "    coo_val = to_user_item_coo(df_val)\n",
    "\n",
    "    csr_train = coo_train.tocsr()\n",
    "    csr_val = coo_val.tocsr()\n",
    "    \n",
    "    return {'coo_train': coo_train,\n",
    "            'csr_train': csr_train,\n",
    "            'csr_val': csr_val\n",
    "          }\n",
    "\n",
    "\n",
    "def validate(matrices, factors=200, iterations=20, regularization=0.01, show_progress=True):\n",
    "    \"\"\" Train an ALS model with <<factors>> (embeddings dimension) \n",
    "    for <<iterations>> over matrices and validate with MAP@12\n",
    "    \"\"\"\n",
    "    coo_train, csr_train, csr_val = matrices['coo_train'], matrices['csr_train'], matrices['csr_val']\n",
    "    \n",
    "    model = implicit.als.AlternatingLeastSquares(factors=factors, \n",
    "                                                 iterations=iterations, \n",
    "                                                 regularization=regularization, \n",
    "                                                 random_state=42)\n",
    "    model.fit(coo_train, show_progress=show_progress)\n",
    "    \n",
    "    # The MAPK by implicit doesn't allow to calculate allowing repeated items, which is the case.\n",
    "    # TODO: change MAP@12 to a library that allows repeated items in prediction\n",
    "    map12 = mean_average_precision_at_k(model, csr_train, csr_val, K=12, show_progress=show_progress, num_threads=4)\n",
    "    print(f\"Factors: {factors:>3} - Iterations: {iterations:>2} - Regularization: {regularization:4.3f} ==> MAP@12: {map12:6.5f}\")\n",
    "    return map12"
   ]
  },
  {
   "cell_type": "code",
   "execution_count": 34,
   "metadata": {
    "execution": {
     "iopub.execute_input": "2022-02-08T23:08:18.813482Z",
     "iopub.status.busy": "2022-02-08T23:08:18.813222Z",
     "iopub.status.idle": "2022-02-08T23:08:25.146694Z",
     "shell.execute_reply": "2022-02-08T23:08:25.145781Z",
     "shell.execute_reply.started": "2022-02-08T23:08:18.81345Z"
    }
   },
   "outputs": [],
   "source": [
    "matrices = get_val_matrices(df)"
   ]
  },
  {
   "cell_type": "code",
   "execution_count": 35,
   "metadata": {},
   "outputs": [
    {
     "name": "stdout",
     "output_type": "stream",
     "text": [
      "Factors:  40 - Iterations:  3 - Regularization: 0.010 ==> MAP@12: 0.00758\n",
      "Best MAP@12 found. Updating: {'factors': 40, 'iterations': 3, 'regularization': 0.01}\n",
      "Factors:  40 - Iterations: 12 - Regularization: 0.010 ==> MAP@12: 0.00694\n",
      "Factors:  40 - Iterations: 14 - Regularization: 0.010 ==> MAP@12: 0.00694\n",
      "Factors:  40 - Iterations: 15 - Regularization: 0.010 ==> MAP@12: 0.00000\n",
      "Factors:  40 - Iterations: 20 - Regularization: 0.010 ==> MAP@12: 0.00000\n",
      "Factors:  50 - Iterations:  3 - Regularization: 0.010 ==> MAP@12: 0.01190\n",
      "Best MAP@12 found. Updating: {'factors': 50, 'iterations': 3, 'regularization': 0.01}\n",
      "Factors:  50 - Iterations: 12 - Regularization: 0.010 ==> MAP@12: 0.00926\n",
      "Factors:  50 - Iterations: 14 - Regularization: 0.010 ==> MAP@12: 0.00926\n",
      "Factors:  50 - Iterations: 15 - Regularization: 0.010 ==> MAP@12: 0.00926\n",
      "Factors:  50 - Iterations: 20 - Regularization: 0.010 ==> MAP@12: 0.01042\n",
      "Factors:  60 - Iterations:  3 - Regularization: 0.010 ==> MAP@12: 0.01042\n",
      "Factors:  60 - Iterations: 12 - Regularization: 0.010 ==> MAP@12: 0.00926\n",
      "Factors:  60 - Iterations: 14 - Regularization: 0.010 ==> MAP@12: 0.00833\n",
      "Factors:  60 - Iterations: 15 - Regularization: 0.010 ==> MAP@12: 0.00833\n",
      "Factors:  60 - Iterations: 20 - Regularization: 0.010 ==> MAP@12: 0.00833\n",
      "Factors: 100 - Iterations:  3 - Regularization: 0.010 ==> MAP@12: 0.01667\n",
      "Best MAP@12 found. Updating: {'factors': 100, 'iterations': 3, 'regularization': 0.01}\n",
      "Factors: 100 - Iterations: 12 - Regularization: 0.010 ==> MAP@12: 0.01190\n",
      "Factors: 100 - Iterations: 14 - Regularization: 0.010 ==> MAP@12: 0.01042\n",
      "Factors: 100 - Iterations: 15 - Regularization: 0.010 ==> MAP@12: 0.01042\n",
      "Factors: 100 - Iterations: 20 - Regularization: 0.010 ==> MAP@12: 0.01042\n",
      "Factors: 200 - Iterations:  3 - Regularization: 0.010 ==> MAP@12: 0.03056\n",
      "Best MAP@12 found. Updating: {'factors': 200, 'iterations': 3, 'regularization': 0.01}\n",
      "Factors: 200 - Iterations: 12 - Regularization: 0.010 ==> MAP@12: 0.04048\n",
      "Best MAP@12 found. Updating: {'factors': 200, 'iterations': 12, 'regularization': 0.01}\n",
      "Factors: 200 - Iterations: 14 - Regularization: 0.010 ==> MAP@12: 0.04048\n",
      "Factors: 200 - Iterations: 15 - Regularization: 0.010 ==> MAP@12: 0.04048\n",
      "Factors: 200 - Iterations: 20 - Regularization: 0.010 ==> MAP@12: 0.04048\n",
      "Factors: 500 - Iterations:  3 - Regularization: 0.010 ==> MAP@12: 0.04861\n",
      "Best MAP@12 found. Updating: {'factors': 500, 'iterations': 3, 'regularization': 0.01}\n",
      "Factors: 500 - Iterations: 12 - Regularization: 0.010 ==> MAP@12: 0.10417\n",
      "Best MAP@12 found. Updating: {'factors': 500, 'iterations': 12, 'regularization': 0.01}\n",
      "Factors: 500 - Iterations: 14 - Regularization: 0.010 ==> MAP@12: 0.10714\n",
      "Best MAP@12 found. Updating: {'factors': 500, 'iterations': 14, 'regularization': 0.01}\n",
      "Factors: 500 - Iterations: 15 - Regularization: 0.010 ==> MAP@12: 0.10714\n",
      "Factors: 500 - Iterations: 20 - Regularization: 0.010 ==> MAP@12: 0.11667\n",
      "Best MAP@12 found. Updating: {'factors': 500, 'iterations': 20, 'regularization': 0.01}\n",
      "Factors: 1000 - Iterations:  3 - Regularization: 0.010 ==> MAP@12: 0.09848\n",
      "Factors: 1000 - Iterations: 12 - Regularization: 0.010 ==> MAP@12: 0.11111\n",
      "Factors: 1000 - Iterations: 14 - Regularization: 0.010 ==> MAP@12: 0.11667\n",
      "Factors: 1000 - Iterations: 15 - Regularization: 0.010 ==> MAP@12: 0.11667\n",
      "Factors: 1000 - Iterations: 20 - Regularization: 0.010 ==> MAP@12: 0.11667\n",
      "Wall time: 3min 43s\n"
     ]
    }
   ],
   "source": [
    "%%time\n",
    "best_map12 = 0\n",
    "for factors in [40, 50, 60, 100, 200, 500, 1000]:\n",
    "    for iterations in [3, 12, 14, 15, 20]:\n",
    "        for regularization in [0.01]:\n",
    "            map12 = validate(matrices, factors, iterations, regularization, show_progress=False)\n",
    "            if map12 > best_map12:\n",
    "                best_map12 = map12\n",
    "                best_params = {'factors': factors, 'iterations': iterations, 'regularization': regularization}\n",
    "                print(f\"Best MAP@12 found. Updating: {best_params}\")"
   ]
  },
  {
   "cell_type": "code",
   "execution_count": 36,
   "metadata": {},
   "outputs": [],
   "source": [
    "del matrices"
   ]
  },
  {
   "cell_type": "markdown",
   "metadata": {},
   "source": [
    "# Training over the full dataset"
   ]
  },
  {
   "cell_type": "code",
   "execution_count": 37,
   "metadata": {
    "execution": {
     "iopub.execute_input": "2022-02-08T23:13:56.676914Z",
     "iopub.status.busy": "2022-02-08T23:13:56.676132Z",
     "iopub.status.idle": "2022-02-08T23:14:00.48247Z",
     "shell.execute_reply": "2022-02-08T23:14:00.481464Z",
     "shell.execute_reply.started": "2022-02-08T23:13:56.676873Z"
    }
   },
   "outputs": [],
   "source": [
    "coo_train = to_user_item_coo(df)\n",
    "csr_train = coo_train.tocsr()"
   ]
  },
  {
   "cell_type": "code",
   "execution_count": 38,
   "metadata": {
    "execution": {
     "iopub.execute_input": "2022-02-08T23:14:00.484602Z",
     "iopub.status.busy": "2022-02-08T23:14:00.484275Z",
     "iopub.status.idle": "2022-02-08T23:14:00.490861Z",
     "shell.execute_reply": "2022-02-08T23:14:00.48987Z",
     "shell.execute_reply.started": "2022-02-08T23:14:00.484562Z"
    }
   },
   "outputs": [],
   "source": [
    "def train(coo_train, factors=200, iterations=15, regularization=0.01, show_progress=True):\n",
    "    model = implicit.als.AlternatingLeastSquares(factors=factors, \n",
    "                                                 iterations=iterations, \n",
    "                                                 regularization=regularization, \n",
    "                                                 random_state=42)\n",
    "    model.fit(coo_train, show_progress=show_progress)\n",
    "    return model"
   ]
  },
  {
   "cell_type": "code",
   "execution_count": 39,
   "metadata": {
    "execution": {
     "iopub.execute_input": "2022-02-08T23:14:14.063667Z",
     "iopub.status.busy": "2022-02-08T23:14:14.063305Z",
     "iopub.status.idle": "2022-02-08T23:14:14.068211Z",
     "shell.execute_reply": "2022-02-08T23:14:14.067212Z",
     "shell.execute_reply.started": "2022-02-08T23:14:14.063633Z"
    }
   },
   "outputs": [
    {
     "data": {
      "text/plain": [
       "{'factors': 500, 'iterations': 20, 'regularization': 0.01}"
      ]
     },
     "execution_count": 39,
     "metadata": {},
     "output_type": "execute_result"
    }
   ],
   "source": [
    "best_params"
   ]
  },
  {
   "cell_type": "code",
   "execution_count": 40,
   "metadata": {
    "execution": {
     "iopub.execute_input": "2022-02-08T23:14:17.223849Z",
     "iopub.status.busy": "2022-02-08T23:14:17.223055Z",
     "iopub.status.idle": "2022-02-08T23:14:38.799466Z",
     "shell.execute_reply": "2022-02-08T23:14:38.798424Z",
     "shell.execute_reply.started": "2022-02-08T23:14:17.223808Z"
    }
   },
   "outputs": [
    {
     "data": {
      "application/vnd.jupyter.widget-view+json": {
       "model_id": "faec3b1b0ace4418bbe642f5f1de62b5",
       "version_major": 2,
       "version_minor": 0
      },
      "text/plain": [
       "  0%|          | 0/20 [00:00<?, ?it/s]"
      ]
     },
     "metadata": {},
     "output_type": "display_data"
    }
   ],
   "source": [
    "model = train(coo_train, **best_params)"
   ]
  },
  {
   "cell_type": "markdown",
   "metadata": {},
   "source": [
    "# Submission"
   ]
  },
  {
   "cell_type": "markdown",
   "metadata": {},
   "source": [
    "## Submission function"
   ]
  },
  {
   "cell_type": "code",
   "execution_count": 41,
   "metadata": {
    "execution": {
     "iopub.execute_input": "2022-02-08T23:15:20.278095Z",
     "iopub.status.busy": "2022-02-08T23:15:20.277717Z",
     "iopub.status.idle": "2022-02-08T23:15:20.290182Z",
     "shell.execute_reply": "2022-02-08T23:15:20.289215Z",
     "shell.execute_reply.started": "2022-02-08T23:15:20.278055Z"
    }
   },
   "outputs": [],
   "source": [
    "def submit(model, csr_train, submission_name=\"submissions.csv\"):\n",
    "    preds = []\n",
    "    batch_size = 2000\n",
    "    to_generate = np.arange(len(ALL_USERS))\n",
    "    for startidx in range(0, len(to_generate), batch_size):\n",
    "        batch = to_generate[startidx : startidx + batch_size]\n",
    "        ids, scores = model.recommend(batch, csr_train[batch], N=12, filter_already_liked_items=False)\n",
    "        for i, userid in enumerate(batch):\n",
    "            customer_id = user_ids[userid]\n",
    "            user_items = ids[i]\n",
    "            article_ids = [item_ids[item_id] for item_id in user_items]\n",
    "            preds.append((customer_id, ' '.join(article_ids)))\n",
    "\n",
    "    df_preds = pd.DataFrame(preds, columns=['customer_id', 'prediction'])\n",
    "    df_preds.to_csv(submission_name, index=False)\n",
    "    \n",
    "    display(df_preds.head())\n",
    "    print(df_preds.shape)\n",
    "    \n",
    "    return df_preds"
   ]
  },
  {
   "cell_type": "code",
   "execution_count": 42,
   "metadata": {},
   "outputs": [
    {
     "data": {
      "text/html": [
       "<div>\n",
       "<style scoped>\n",
       "    .dataframe tbody tr th:only-of-type {\n",
       "        vertical-align: middle;\n",
       "    }\n",
       "\n",
       "    .dataframe tbody tr th {\n",
       "        vertical-align: top;\n",
       "    }\n",
       "\n",
       "    .dataframe thead th {\n",
       "        text-align: right;\n",
       "    }\n",
       "</style>\n",
       "<table border=\"1\" class=\"dataframe\">\n",
       "  <thead>\n",
       "    <tr style=\"text-align: right;\">\n",
       "      <th></th>\n",
       "      <th>customer_id</th>\n",
       "      <th>prediction</th>\n",
       "    </tr>\n",
       "  </thead>\n",
       "  <tbody>\n",
       "    <tr>\n",
       "      <th>0</th>\n",
       "      <td>17850.0</td>\n",
       "      <td>71477 82494l 82483 82482 84029g 85123a 84029e ...</td>\n",
       "    </tr>\n",
       "    <tr>\n",
       "      <th>1</th>\n",
       "      <td>13047.0</td>\n",
       "      <td>22961 22090 22692 22077 22969 21755 23245 2262...</td>\n",
       "    </tr>\n",
       "    <tr>\n",
       "      <th>2</th>\n",
       "      <td>12583.0</td>\n",
       "      <td>22417 22551 22617 21094 22556 22728 35970 2265...</td>\n",
       "    </tr>\n",
       "    <tr>\n",
       "      <th>3</th>\n",
       "      <td>13748.0</td>\n",
       "      <td>22423 22086 22961 22457 84946 22077 22952 2208...</td>\n",
       "    </tr>\n",
       "    <tr>\n",
       "      <th>4</th>\n",
       "      <td>15100.0</td>\n",
       "      <td>21258 21259 21257 21936 22567 22627 23310 2159...</td>\n",
       "    </tr>\n",
       "  </tbody>\n",
       "</table>\n",
       "</div>"
      ],
      "text/plain": [
       "   customer_id                                         prediction\n",
       "0      17850.0  71477 82494l 82483 82482 84029g 85123a 84029e ...\n",
       "1      13047.0  22961 22090 22692 22077 22969 21755 23245 2262...\n",
       "2      12583.0  22417 22551 22617 21094 22556 22728 35970 2265...\n",
       "3      13748.0  22423 22086 22961 22457 84946 22077 22952 2208...\n",
       "4      15100.0  21258 21259 21257 21936 22567 22627 23310 2159..."
      ]
     },
     "metadata": {},
     "output_type": "display_data"
    },
    {
     "name": "stdout",
     "output_type": "stream",
     "text": [
      "(4356, 2)\n",
      "Wall time: 717 ms\n"
     ]
    }
   ],
   "source": [
    "%%time\n",
    "df_preds = submit(model, csr_train);"
   ]
  },
  {
   "cell_type": "code",
   "execution_count": null,
   "metadata": {},
   "outputs": [],
   "source": []
  },
  {
   "cell_type": "code",
   "execution_count": null,
   "metadata": {},
   "outputs": [],
   "source": []
  },
  {
   "cell_type": "code",
   "execution_count": null,
   "metadata": {},
   "outputs": [],
   "source": []
  }
 ],
 "metadata": {
  "kernelspec": {
   "display_name": "Python 3",
   "language": "python",
   "name": "python3"
  },
  "language_info": {
   "codemirror_mode": {
    "name": "ipython",
    "version": 3
   },
   "file_extension": ".py",
   "mimetype": "text/x-python",
   "name": "python",
   "nbconvert_exporter": "python",
   "pygments_lexer": "ipython3",
   "version": "3.8.8"
  }
 },
 "nbformat": 4,
 "nbformat_minor": 4
}
