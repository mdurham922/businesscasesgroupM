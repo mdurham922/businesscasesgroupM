{
 "cells": [
  {
   "cell_type": "code",
   "execution_count": 1,
   "id": "856b8846",
   "metadata": {},
   "outputs": [],
   "source": [
    "import pandas as pd\n",
    "import numpy as np\n",
    "import plotly.graph_objects as go \n",
    "import plotly.express as px"
   ]
  },
  {
   "cell_type": "code",
   "execution_count": 2,
   "id": "e63d7d5f",
   "metadata": {},
   "outputs": [],
   "source": [
    "close=pd.read_csv('data/close.csv')\n",
    "adj_close=pd.read_csv('data/adj_close.csv')\n",
    "open=pd.read_csv('data/open.csv')\n",
    "high=pd.read_csv('data/open.csv')\n",
    "low=pd.read_csv('data/low.csv')\n",
    "volume=pd.read_csv('data/volume.csv')"
   ]
  },
  {
   "cell_type": "code",
   "execution_count": 68,
   "id": "661cccef",
   "metadata": {},
   "outputs": [],
   "source": [
    "from functools import reduce\n",
    "dataframes = [close, adj_close, open, high, low, volume]\n",
    "df_merged = reduce(lambda  left,right: pd.merge(left,right,on=['Date'], how='outer'), dataframes)"
   ]
  },
  {
   "cell_type": "code",
   "execution_count": 78,
   "id": "803f845d",
   "metadata": {},
   "outputs": [],
   "source": [
    "def currency(curr): \n",
    "    df=df_merged[['Date',curr+'_x', curr+'_y']]\n",
    "    df.columns = ['Date','Close', 'Adj_Close','Open','High', 'Low', 'Volume']\n",
    "    return df"
   ]
  },
  {
   "cell_type": "code",
   "execution_count": 82,
   "id": "19f26b4f",
   "metadata": {},
   "outputs": [],
   "source": [
    "ADA=currency('ADA-USD')\n",
    "ATOM=currency('ATOM-USD')\n",
    "AVAX=currency('AVAX-USD')\n",
    "AXS=currency('AXS-USD')\n",
    "BTC=currency('BTC-USD')\n",
    "ETH=currency('ETH-USD')\n",
    "LINK=currency('LINK-USD')\n",
    "LUNA1=currency('LUNA1-USD')\n",
    "MATIC=currency('MATIC-USD')\n",
    "SOL=currency('SOL-USD')"
   ]
  }
 ],
 "metadata": {
  "kernelspec": {
   "display_name": "Python 3",
   "language": "python",
   "name": "python3"
  },
  "language_info": {
   "codemirror_mode": {
    "name": "ipython",
    "version": 3
   },
   "file_extension": ".py",
   "mimetype": "text/x-python",
   "name": "python",
   "nbconvert_exporter": "python",
   "pygments_lexer": "ipython3",
   "version": "3.8.8"
  }
 },
 "nbformat": 4,
 "nbformat_minor": 5
}
